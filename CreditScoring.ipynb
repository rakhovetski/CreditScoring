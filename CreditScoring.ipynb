{
 "cells": [
  {
   "cell_type": "code",
   "execution_count": 359,
   "id": "27144990",
   "metadata": {},
   "outputs": [],
   "source": [
    "import pandas as pd\n",
    "import matplotlib.pyplot as plt\n",
    "import seaborn as sns\n",
    "import numpy as np"
   ]
  },
  {
   "cell_type": "code",
   "execution_count": 360,
   "id": "f36b277e",
   "metadata": {},
   "outputs": [],
   "source": [
    "from sklearn.preprocessing import LabelEncoder\n",
    "from sklearn.model_selection import train_test_split, cross_val_score, GridSearchCV\n",
    "from sklearn.ensemble import RandomForestClassifier\n",
    "from sklearn.metrics import f1_score, roc_curve, accuracy_score, precision_score, recall_score, roc_auc_score, mean_squared_error\n",
    "from sklearn.linear_model import LogisticRegression, LinearRegression, Perceptron\n",
    "from sklearn.neighbors import KNeighborsClassifier"
   ]
  },
  {
   "cell_type": "code",
   "execution_count": 361,
   "id": "fdf5269f",
   "metadata": {},
   "outputs": [],
   "source": [
    "import warnings \n",
    "warnings.filterwarnings('ignore')"
   ]
  },
  {
   "cell_type": "markdown",
   "id": "6ab8fde9",
   "metadata": {},
   "source": [
    "# Задача кредитного скоринга"
   ]
  },
  {
   "cell_type": "markdown",
   "id": "a36c0778",
   "metadata": {},
   "source": [
    "https://www.kaggle.com/competitions/sf-dst-scoring"
   ]
  },
  {
   "cell_type": "markdown",
   "id": "2ab33d55",
   "metadata": {},
   "source": [
    "## Описания полей\n",
    "client_id - идентификатор клиента\n",
    "\n",
    "education - уровень образования\n",
    "\n",
    "sex - пол заемщика\n",
    "\n",
    "age - возраст заемщика\n",
    "\n",
    "car - флаг наличия автомобиля\n",
    "\n",
    "car_type - флаг автомобиля иномарки\n",
    "\n",
    "decline_app_cnt - количество отказанных прошлых заявок\n",
    "\n",
    "good_work - флаг наличия “хорошей” работы\n",
    "\n",
    "bki_request_cnt - количество запросов в БКИ\n",
    "\n",
    "home_address - категоризатор домашнего адреса\n",
    "\n",
    "work_address - категоризатор рабочего адреса\n",
    "\n",
    "income - доход заемщика\n",
    "\n",
    "foreign_passport - наличие загранпаспорта\n",
    "\n",
    "sna - связь заемщика с клиентами банка\n",
    "\n",
    "first_time - давность наличия информации о заемщике\n",
    "\n",
    "score_bki - скоринговый балл по данным из БКИ\n",
    "\n",
    "region_rating - рейтинг региона\n",
    "\n",
    "app_date - дата подачи заявки\n",
    "\n",
    "default - флаг дефолта по кредиту"
   ]
  },
  {
   "cell_type": "code",
   "execution_count": 362,
   "id": "5a2b675c",
   "metadata": {},
   "outputs": [],
   "source": [
    "train = pd.read_csv(r\"D:\\Курсы\\train.csv\")"
   ]
  },
  {
   "cell_type": "code",
   "execution_count": 363,
   "id": "c3c67d44",
   "metadata": {},
   "outputs": [],
   "source": [
    "test = pd.read_csv(r\"D:\\Курсы\\test.csv\")"
   ]
  },
  {
   "cell_type": "code",
   "execution_count": 364,
   "id": "549a107d",
   "metadata": {},
   "outputs": [
    {
     "data": {
      "text/plain": [
       "(73799, 19)"
      ]
     },
     "execution_count": 364,
     "metadata": {},
     "output_type": "execute_result"
    }
   ],
   "source": [
    "train.shape"
   ]
  },
  {
   "cell_type": "code",
   "execution_count": 365,
   "id": "042c74e7",
   "metadata": {
    "scrolled": true
   },
   "outputs": [
    {
     "data": {
      "text/html": [
       "<div>\n",
       "<style scoped>\n",
       "    .dataframe tbody tr th:only-of-type {\n",
       "        vertical-align: middle;\n",
       "    }\n",
       "\n",
       "    .dataframe tbody tr th {\n",
       "        vertical-align: top;\n",
       "    }\n",
       "\n",
       "    .dataframe thead th {\n",
       "        text-align: right;\n",
       "    }\n",
       "</style>\n",
       "<table border=\"1\" class=\"dataframe\">\n",
       "  <thead>\n",
       "    <tr style=\"text-align: right;\">\n",
       "      <th></th>\n",
       "      <th>client_id</th>\n",
       "      <th>app_date</th>\n",
       "      <th>education</th>\n",
       "      <th>sex</th>\n",
       "      <th>age</th>\n",
       "      <th>car</th>\n",
       "      <th>car_type</th>\n",
       "      <th>decline_app_cnt</th>\n",
       "      <th>good_work</th>\n",
       "      <th>score_bki</th>\n",
       "      <th>bki_request_cnt</th>\n",
       "      <th>region_rating</th>\n",
       "      <th>home_address</th>\n",
       "      <th>work_address</th>\n",
       "      <th>income</th>\n",
       "      <th>sna</th>\n",
       "      <th>first_time</th>\n",
       "      <th>foreign_passport</th>\n",
       "      <th>default</th>\n",
       "    </tr>\n",
       "  </thead>\n",
       "  <tbody>\n",
       "    <tr>\n",
       "      <th>0</th>\n",
       "      <td>25905</td>\n",
       "      <td>01FEB2014</td>\n",
       "      <td>SCH</td>\n",
       "      <td>M</td>\n",
       "      <td>62</td>\n",
       "      <td>Y</td>\n",
       "      <td>Y</td>\n",
       "      <td>0</td>\n",
       "      <td>0</td>\n",
       "      <td>-2.008753</td>\n",
       "      <td>1</td>\n",
       "      <td>50</td>\n",
       "      <td>1</td>\n",
       "      <td>2</td>\n",
       "      <td>18000</td>\n",
       "      <td>4</td>\n",
       "      <td>1</td>\n",
       "      <td>N</td>\n",
       "      <td>0</td>\n",
       "    </tr>\n",
       "    <tr>\n",
       "      <th>1</th>\n",
       "      <td>63161</td>\n",
       "      <td>12MAR2014</td>\n",
       "      <td>SCH</td>\n",
       "      <td>F</td>\n",
       "      <td>59</td>\n",
       "      <td>N</td>\n",
       "      <td>N</td>\n",
       "      <td>0</td>\n",
       "      <td>0</td>\n",
       "      <td>-1.532276</td>\n",
       "      <td>3</td>\n",
       "      <td>50</td>\n",
       "      <td>2</td>\n",
       "      <td>3</td>\n",
       "      <td>19000</td>\n",
       "      <td>4</td>\n",
       "      <td>1</td>\n",
       "      <td>N</td>\n",
       "      <td>0</td>\n",
       "    </tr>\n",
       "    <tr>\n",
       "      <th>2</th>\n",
       "      <td>25887</td>\n",
       "      <td>01FEB2014</td>\n",
       "      <td>SCH</td>\n",
       "      <td>M</td>\n",
       "      <td>25</td>\n",
       "      <td>Y</td>\n",
       "      <td>N</td>\n",
       "      <td>2</td>\n",
       "      <td>0</td>\n",
       "      <td>-1.408142</td>\n",
       "      <td>1</td>\n",
       "      <td>80</td>\n",
       "      <td>1</td>\n",
       "      <td>2</td>\n",
       "      <td>30000</td>\n",
       "      <td>1</td>\n",
       "      <td>4</td>\n",
       "      <td>Y</td>\n",
       "      <td>0</td>\n",
       "    </tr>\n",
       "    <tr>\n",
       "      <th>3</th>\n",
       "      <td>16222</td>\n",
       "      <td>23JAN2014</td>\n",
       "      <td>SCH</td>\n",
       "      <td>F</td>\n",
       "      <td>53</td>\n",
       "      <td>N</td>\n",
       "      <td>N</td>\n",
       "      <td>0</td>\n",
       "      <td>0</td>\n",
       "      <td>-2.057471</td>\n",
       "      <td>2</td>\n",
       "      <td>50</td>\n",
       "      <td>2</td>\n",
       "      <td>3</td>\n",
       "      <td>10000</td>\n",
       "      <td>1</td>\n",
       "      <td>3</td>\n",
       "      <td>N</td>\n",
       "      <td>0</td>\n",
       "    </tr>\n",
       "    <tr>\n",
       "      <th>4</th>\n",
       "      <td>101655</td>\n",
       "      <td>18APR2014</td>\n",
       "      <td>GRD</td>\n",
       "      <td>M</td>\n",
       "      <td>48</td>\n",
       "      <td>N</td>\n",
       "      <td>N</td>\n",
       "      <td>0</td>\n",
       "      <td>1</td>\n",
       "      <td>-1.244723</td>\n",
       "      <td>1</td>\n",
       "      <td>60</td>\n",
       "      <td>2</td>\n",
       "      <td>3</td>\n",
       "      <td>30000</td>\n",
       "      <td>1</td>\n",
       "      <td>4</td>\n",
       "      <td>Y</td>\n",
       "      <td>0</td>\n",
       "    </tr>\n",
       "  </tbody>\n",
       "</table>\n",
       "</div>"
      ],
      "text/plain": [
       "   client_id   app_date education sex  age car car_type  decline_app_cnt  \\\n",
       "0      25905  01FEB2014       SCH   M   62   Y        Y                0   \n",
       "1      63161  12MAR2014       SCH   F   59   N        N                0   \n",
       "2      25887  01FEB2014       SCH   M   25   Y        N                2   \n",
       "3      16222  23JAN2014       SCH   F   53   N        N                0   \n",
       "4     101655  18APR2014       GRD   M   48   N        N                0   \n",
       "\n",
       "   good_work  score_bki  bki_request_cnt  region_rating  home_address  \\\n",
       "0          0  -2.008753                1             50             1   \n",
       "1          0  -1.532276                3             50             2   \n",
       "2          0  -1.408142                1             80             1   \n",
       "3          0  -2.057471                2             50             2   \n",
       "4          1  -1.244723                1             60             2   \n",
       "\n",
       "   work_address  income  sna  first_time foreign_passport  default  \n",
       "0             2   18000    4           1                N        0  \n",
       "1             3   19000    4           1                N        0  \n",
       "2             2   30000    1           4                Y        0  \n",
       "3             3   10000    1           3                N        0  \n",
       "4             3   30000    1           4                Y        0  "
      ]
     },
     "execution_count": 365,
     "metadata": {},
     "output_type": "execute_result"
    }
   ],
   "source": [
    "train.head(5)"
   ]
  },
  {
   "cell_type": "code",
   "execution_count": 366,
   "id": "cd0864b6",
   "metadata": {},
   "outputs": [
    {
     "data": {
      "text/plain": [
       "client_id             int64\n",
       "app_date             object\n",
       "education            object\n",
       "sex                  object\n",
       "age                   int64\n",
       "car                  object\n",
       "car_type             object\n",
       "decline_app_cnt       int64\n",
       "good_work             int64\n",
       "score_bki           float64\n",
       "bki_request_cnt       int64\n",
       "region_rating         int64\n",
       "home_address          int64\n",
       "work_address          int64\n",
       "income                int64\n",
       "sna                   int64\n",
       "first_time            int64\n",
       "foreign_passport     object\n",
       "default               int64\n",
       "dtype: object"
      ]
     },
     "execution_count": 366,
     "metadata": {},
     "output_type": "execute_result"
    }
   ],
   "source": [
    "train.dtypes"
   ]
  },
  {
   "cell_type": "markdown",
   "id": "d29067e5",
   "metadata": {},
   "source": [
    "# Проверим дубликаты в строках"
   ]
  },
  {
   "cell_type": "code",
   "execution_count": 367,
   "id": "02e638de",
   "metadata": {},
   "outputs": [
    {
     "data": {
      "text/html": [
       "<div>\n",
       "<style scoped>\n",
       "    .dataframe tbody tr th:only-of-type {\n",
       "        vertical-align: middle;\n",
       "    }\n",
       "\n",
       "    .dataframe tbody tr th {\n",
       "        vertical-align: top;\n",
       "    }\n",
       "\n",
       "    .dataframe thead th {\n",
       "        text-align: right;\n",
       "    }\n",
       "</style>\n",
       "<table border=\"1\" class=\"dataframe\">\n",
       "  <thead>\n",
       "    <tr style=\"text-align: right;\">\n",
       "      <th></th>\n",
       "      <th>client_id</th>\n",
       "      <th>app_date</th>\n",
       "      <th>education</th>\n",
       "      <th>sex</th>\n",
       "      <th>age</th>\n",
       "      <th>car</th>\n",
       "      <th>car_type</th>\n",
       "      <th>decline_app_cnt</th>\n",
       "      <th>good_work</th>\n",
       "      <th>score_bki</th>\n",
       "      <th>bki_request_cnt</th>\n",
       "      <th>region_rating</th>\n",
       "      <th>home_address</th>\n",
       "      <th>work_address</th>\n",
       "      <th>income</th>\n",
       "      <th>sna</th>\n",
       "      <th>first_time</th>\n",
       "      <th>foreign_passport</th>\n",
       "      <th>default</th>\n",
       "    </tr>\n",
       "  </thead>\n",
       "  <tbody>\n",
       "  </tbody>\n",
       "</table>\n",
       "</div>"
      ],
      "text/plain": [
       "Empty DataFrame\n",
       "Columns: [client_id, app_date, education, sex, age, car, car_type, decline_app_cnt, good_work, score_bki, bki_request_cnt, region_rating, home_address, work_address, income, sna, first_time, foreign_passport, default]\n",
       "Index: []"
      ]
     },
     "execution_count": 367,
     "metadata": {},
     "output_type": "execute_result"
    }
   ],
   "source": [
    "train[train.duplicated()]"
   ]
  },
  {
   "cell_type": "markdown",
   "id": "06101df4",
   "metadata": {},
   "source": [
    "В строках нет полных дубликатов"
   ]
  },
  {
   "cell_type": "markdown",
   "id": "afca4227",
   "metadata": {},
   "source": [
    "# Посмотрим распределение default столбца"
   ]
  },
  {
   "cell_type": "code",
   "execution_count": 368,
   "id": "ca02d41e",
   "metadata": {},
   "outputs": [
    {
     "name": "stdout",
     "output_type": "stream",
     "text": [
      "0.127\n"
     ]
    },
    {
     "data": {
      "image/png": "[encoded data removed]",
      "text/plain": [
       "<Figure size 432x288 with 1 Axes>"
      ]
     },
     "metadata": {
      "needs_background": "light"
     },
     "output_type": "display_data"
    }
   ],
   "source": [
    "sns.countplot(x=train.default)\n",
    "print(round(train.default.sum()/train.default.count(), 3))"
   ]
  },
  {
   "cell_type": "markdown",
   "id": "f10b3802",
   "metadata": {},
   "source": [
    "По данным понятно, что 12.7% людей не возвращают кредит"
   ]
  },
  {
   "cell_type": "markdown",
   "id": "4d85a9ab",
   "metadata": {},
   "source": [
    "# Посмотрим в каких столбцах есть null-значения"
   ]
  },
  {
   "cell_type": "code",
   "execution_count": 369,
   "id": "81ddd557",
   "metadata": {},
   "outputs": [
    {
     "name": "stdout",
     "output_type": "stream",
     "text": [
      "<class 'pandas.core.frame.DataFrame'>\n",
      "RangeIndex: 73799 entries, 0 to 73798\n",
      "Data columns (total 19 columns):\n",
      " #   Column            Non-Null Count  Dtype  \n",
      "---  ------            --------------  -----  \n",
      " 0   client_id         73799 non-null  int64  \n",
      " 1   app_date          73799 non-null  object \n",
      " 2   education         73492 non-null  object \n",
      " 3   sex               73799 non-null  object \n",
      " 4   age               73799 non-null  int64  \n",
      " 5   car               73799 non-null  object \n",
      " 6   car_type          73799 non-null  object \n",
      " 7   decline_app_cnt   73799 non-null  int64  \n",
      " 8   good_work         73799 non-null  int64  \n",
      " 9   score_bki         73799 non-null  float64\n",
      " 10  bki_request_cnt   73799 non-null  int64  \n",
      " 11  region_rating     73799 non-null  int64  \n",
      " 12  home_address      73799 non-null  int64  \n",
      " 13  work_address      73799 non-null  int64  \n",
      " 14  income            73799 non-null  int64  \n",
      " 15  sna               73799 non-null  int64  \n",
      " 16  first_time        73799 non-null  int64  \n",
      " 17  foreign_passport  73799 non-null  object \n",
      " 18  default           73799 non-null  int64  \n",
      "dtypes: float64(1), int64(12), object(6)\n",
      "memory usage: 10.7+ MB\n"
     ]
    }
   ],
   "source": [
    "train.info()"
   ]
  },
  {
   "cell_type": "code",
   "execution_count": 370,
   "id": "d3a82c95",
   "metadata": {},
   "outputs": [
    {
     "data": {
      "text/plain": [
       "client_id             0\n",
       "app_date              0\n",
       "education           307\n",
       "sex                   0\n",
       "age                   0\n",
       "car                   0\n",
       "car_type              0\n",
       "decline_app_cnt       0\n",
       "good_work             0\n",
       "score_bki             0\n",
       "bki_request_cnt       0\n",
       "region_rating         0\n",
       "home_address          0\n",
       "work_address          0\n",
       "income                0\n",
       "sna                   0\n",
       "first_time            0\n",
       "foreign_passport      0\n",
       "default               0\n",
       "dtype: int64"
      ]
     },
     "execution_count": 370,
     "metadata": {},
     "output_type": "execute_result"
    }
   ],
   "source": [
    "train.isna().sum()"
   ]
  },
  {
   "cell_type": "markdown",
   "id": "fcb02cc1",
   "metadata": {},
   "source": [
    "По данным можно понять, что в столбце education есть null-значения"
   ]
  },
  {
   "cell_type": "markdown",
   "id": "2f874125",
   "metadata": {},
   "source": [
    "# Заполним null-значения"
   ]
  },
  {
   "cell_type": "markdown",
   "id": "6e73077f",
   "metadata": {},
   "source": [
    "### Разобьем выборку на две: в которых есть null-значения и в которых их нет"
   ]
  },
  {
   "cell_type": "markdown",
   "id": "31b2e3c3",
   "metadata": {},
   "source": [
    "Это необходимо для того, чтобы понять, как влияют null-значения на целевую переменную"
   ]
  },
  {
   "cell_type": "code",
   "execution_count": 371,
   "id": "0568e8cc",
   "metadata": {},
   "outputs": [],
   "source": [
    "train_with_null = train\n",
    "train_without_null = train.dropna().reset_index()"
   ]
  },
  {
   "cell_type": "code",
   "execution_count": 372,
   "id": "11ceea79",
   "metadata": {},
   "outputs": [
    {
     "data": {
      "text/plain": [
       "0.12699"
      ]
     },
     "execution_count": 372,
     "metadata": {},
     "output_type": "execute_result"
    }
   ],
   "source": [
    "round(train_with_null.default.sum()/train_with_null.default.count(), 5)"
   ]
  },
  {
   "cell_type": "code",
   "execution_count": 373,
   "id": "861d9308",
   "metadata": {},
   "outputs": [
    {
     "data": {
      "text/plain": [
       "0.12705"
      ]
     },
     "execution_count": 373,
     "metadata": {},
     "output_type": "execute_result"
    }
   ],
   "source": [
    "round(train_without_null.default.sum()/train_without_null.default.count(), 5)"
   ]
  },
  {
   "cell_type": "markdown",
   "id": "2029f7bf",
   "metadata": {},
   "source": [
    "Как мы можем увидеть, null-значения не сильно влияют на столбец default, поэтому их можно удалить"
   ]
  },
  {
   "cell_type": "code",
   "execution_count": 374,
   "id": "eaa8718d",
   "metadata": {},
   "outputs": [],
   "source": [
    "train.dropna(inplace=True)"
   ]
  },
  {
   "cell_type": "markdown",
   "id": "87dc7858",
   "metadata": {},
   "source": [
    "# Удалим все уникальный значения"
   ]
  },
  {
   "cell_type": "code",
   "execution_count": 375,
   "id": "2b16666b",
   "metadata": {},
   "outputs": [
    {
     "data": {
      "text/plain": [
       "client_id           73492\n",
       "app_date              120\n",
       "education               5\n",
       "sex                     2\n",
       "age                    52\n",
       "car                     2\n",
       "car_type                2\n",
       "decline_app_cnt        21\n",
       "good_work               2\n",
       "score_bki           68808\n",
       "bki_request_cnt        38\n",
       "region_rating           7\n",
       "home_address            3\n",
       "work_address            3\n",
       "income                965\n",
       "sna                     4\n",
       "first_time              4\n",
       "foreign_passport        2\n",
       "default                 2\n",
       "dtype: int64"
      ]
     },
     "execution_count": 375,
     "metadata": {},
     "output_type": "execute_result"
    }
   ],
   "source": [
    "train.nunique()"
   ]
  },
  {
   "cell_type": "markdown",
   "id": "21010e6f",
   "metadata": {},
   "source": [
    "Удалим из таблицы client_id и score_bki"
   ]
  },
  {
   "cell_type": "code",
   "execution_count": 376,
   "id": "7cfbac20",
   "metadata": {},
   "outputs": [],
   "source": [
    "train.drop(['client_id'], axis=1, inplace=True)"
   ]
  },
  {
   "cell_type": "markdown",
   "id": "d108f8ab",
   "metadata": {},
   "source": [
    "# Проверим зависимость некоторых столбцов на столбец default "
   ]
  },
  {
   "cell_type": "markdown",
   "id": "6445d056",
   "metadata": {},
   "source": [
    "Введем дополнительные функции"
   ]
  },
  {
   "cell_type": "code",
   "execution_count": 377,
   "id": "531f50ed",
   "metadata": {},
   "outputs": [],
   "source": [
    "def print_data_percent(train, column):           #Фукнция, чтобы вычислить процентное соотношение\n",
    "    for col in train['{}'.format(column)].unique():\n",
    "        data = train.loc[train['{}'.format(column)] == col]\n",
    "        print('{}: {:.3f}'.format(col, sum(data['default'])/len(data)))"
   ]
  },
  {
   "cell_type": "code",
   "execution_count": 378,
   "id": "55f0e3d0",
   "metadata": {},
   "outputs": [],
   "source": [
    "def countplot_data(column):\n",
    "    sns.countplot(x=train['default'], hue=column, data=train)"
   ]
  },
  {
   "cell_type": "code",
   "execution_count": 379,
   "id": "65b23278",
   "metadata": {},
   "outputs": [],
   "source": [
    "def print_data_count_in_percent(train, column):\n",
    "    for col in train['{}'.format(column)].unique():\n",
    "        data = train[train[f'{column}'] == col]\n",
    "        print('{}: {:.3f}'.format(col, len(data)/len(train)))"
   ]
  },
  {
   "cell_type": "markdown",
   "id": "8bd81d06",
   "metadata": {},
   "source": [
    "### Преобразуем столбец app_date из строки в дату"
   ]
  },
  {
   "cell_type": "code",
   "execution_count": 380,
   "id": "d1100eb2",
   "metadata": {},
   "outputs": [
    {
     "data": {
      "text/html": [
       "<div>\n",
       "<style scoped>\n",
       "    .dataframe tbody tr th:only-of-type {\n",
       "        vertical-align: middle;\n",
       "    }\n",
       "\n",
       "    .dataframe tbody tr th {\n",
       "        vertical-align: top;\n",
       "    }\n",
       "\n",
       "    .dataframe thead th {\n",
       "        text-align: right;\n",
       "    }\n",
       "</style>\n",
       "<table border=\"1\" class=\"dataframe\">\n",
       "  <thead>\n",
       "    <tr style=\"text-align: right;\">\n",
       "      <th></th>\n",
       "      <th>app_date</th>\n",
       "      <th>education</th>\n",
       "      <th>sex</th>\n",
       "      <th>age</th>\n",
       "      <th>car</th>\n",
       "      <th>car_type</th>\n",
       "      <th>decline_app_cnt</th>\n",
       "      <th>good_work</th>\n",
       "      <th>score_bki</th>\n",
       "      <th>bki_request_cnt</th>\n",
       "      <th>region_rating</th>\n",
       "      <th>home_address</th>\n",
       "      <th>work_address</th>\n",
       "      <th>income</th>\n",
       "      <th>sna</th>\n",
       "      <th>first_time</th>\n",
       "      <th>foreign_passport</th>\n",
       "      <th>default</th>\n",
       "    </tr>\n",
       "  </thead>\n",
       "  <tbody>\n",
       "    <tr>\n",
       "      <th>0</th>\n",
       "      <td>2014-02-01</td>\n",
       "      <td>SCH</td>\n",
       "      <td>M</td>\n",
       "      <td>62</td>\n",
       "      <td>Y</td>\n",
       "      <td>Y</td>\n",
       "      <td>0</td>\n",
       "      <td>0</td>\n",
       "      <td>-2.008753</td>\n",
       "      <td>1</td>\n",
       "      <td>50</td>\n",
       "      <td>1</td>\n",
       "      <td>2</td>\n",
       "      <td>18000</td>\n",
       "      <td>4</td>\n",
       "      <td>1</td>\n",
       "      <td>N</td>\n",
       "      <td>0</td>\n",
       "    </tr>\n",
       "    <tr>\n",
       "      <th>1</th>\n",
       "      <td>2014-03-12</td>\n",
       "      <td>SCH</td>\n",
       "      <td>F</td>\n",
       "      <td>59</td>\n",
       "      <td>N</td>\n",
       "      <td>N</td>\n",
       "      <td>0</td>\n",
       "      <td>0</td>\n",
       "      <td>-1.532276</td>\n",
       "      <td>3</td>\n",
       "      <td>50</td>\n",
       "      <td>2</td>\n",
       "      <td>3</td>\n",
       "      <td>19000</td>\n",
       "      <td>4</td>\n",
       "      <td>1</td>\n",
       "      <td>N</td>\n",
       "      <td>0</td>\n",
       "    </tr>\n",
       "    <tr>\n",
       "      <th>2</th>\n",
       "      <td>2014-02-01</td>\n",
       "      <td>SCH</td>\n",
       "      <td>M</td>\n",
       "      <td>25</td>\n",
       "      <td>Y</td>\n",
       "      <td>N</td>\n",
       "      <td>2</td>\n",
       "      <td>0</td>\n",
       "      <td>-1.408142</td>\n",
       "      <td>1</td>\n",
       "      <td>80</td>\n",
       "      <td>1</td>\n",
       "      <td>2</td>\n",
       "      <td>30000</td>\n",
       "      <td>1</td>\n",
       "      <td>4</td>\n",
       "      <td>Y</td>\n",
       "      <td>0</td>\n",
       "    </tr>\n",
       "    <tr>\n",
       "      <th>3</th>\n",
       "      <td>2014-01-23</td>\n",
       "      <td>SCH</td>\n",
       "      <td>F</td>\n",
       "      <td>53</td>\n",
       "      <td>N</td>\n",
       "      <td>N</td>\n",
       "      <td>0</td>\n",
       "      <td>0</td>\n",
       "      <td>-2.057471</td>\n",
       "      <td>2</td>\n",
       "      <td>50</td>\n",
       "      <td>2</td>\n",
       "      <td>3</td>\n",
       "      <td>10000</td>\n",
       "      <td>1</td>\n",
       "      <td>3</td>\n",
       "      <td>N</td>\n",
       "      <td>0</td>\n",
       "    </tr>\n",
       "    <tr>\n",
       "      <th>4</th>\n",
       "      <td>2014-04-18</td>\n",
       "      <td>GRD</td>\n",
       "      <td>M</td>\n",
       "      <td>48</td>\n",
       "      <td>N</td>\n",
       "      <td>N</td>\n",
       "      <td>0</td>\n",
       "      <td>1</td>\n",
       "      <td>-1.244723</td>\n",
       "      <td>1</td>\n",
       "      <td>60</td>\n",
       "      <td>2</td>\n",
       "      <td>3</td>\n",
       "      <td>30000</td>\n",
       "      <td>1</td>\n",
       "      <td>4</td>\n",
       "      <td>Y</td>\n",
       "      <td>0</td>\n",
       "    </tr>\n",
       "  </tbody>\n",
       "</table>\n",
       "</div>"
      ],
      "text/plain": [
       "    app_date education sex  age car car_type  decline_app_cnt  good_work  \\\n",
       "0 2014-02-01       SCH   M   62   Y        Y                0          0   \n",
       "1 2014-03-12       SCH   F   59   N        N                0          0   \n",
       "2 2014-02-01       SCH   M   25   Y        N                2          0   \n",
       "3 2014-01-23       SCH   F   53   N        N                0          0   \n",
       "4 2014-04-18       GRD   M   48   N        N                0          1   \n",
       "\n",
       "   score_bki  bki_request_cnt  region_rating  home_address  work_address  \\\n",
       "0  -2.008753                1             50             1             2   \n",
       "1  -1.532276                3             50             2             3   \n",
       "2  -1.408142                1             80             1             2   \n",
       "3  -2.057471                2             50             2             3   \n",
       "4  -1.244723                1             60             2             3   \n",
       "\n",
       "   income  sna  first_time foreign_passport  default  \n",
       "0   18000    4           1                N        0  \n",
       "1   19000    4           1                N        0  \n",
       "2   30000    1           4                Y        0  \n",
       "3   10000    1           3                N        0  \n",
       "4   30000    1           4                Y        0  "
      ]
     },
     "execution_count": 380,
     "metadata": {},
     "output_type": "execute_result"
    }
   ],
   "source": [
    "train.app_date = pd.to_datetime(train.app_date, format='%d%b%Y')\n",
    "test.app_date = pd.to_datetime(test.app_date, format='%d%b%Y')\n",
    "\n",
    "train.head()"
   ]
  },
  {
   "cell_type": "markdown",
   "id": "97d84969",
   "metadata": {},
   "source": [
    "### Зависимость возраста и default"
   ]
  },
  {
   "cell_type": "code",
   "execution_count": 381,
   "id": "e08a5cef",
   "metadata": {},
   "outputs": [
    {
     "data": {
      "text/plain": [
       "<AxesSubplot:xlabel='age', ylabel='Count'>"
      ]
     },
     "execution_count": 381,
     "metadata": {},
     "output_type": "execute_result"
    },
    {
     "data": {
      "image/png": "[encoded data removed]",
      "text/plain": [
       "<Figure size 432x288 with 1 Axes>"
      ]
     },
     "metadata": {
      "needs_background": "light"
     },
     "output_type": "display_data"
    }
   ],
   "source": [
    "sns.histplot(train.age, bins=50)"
   ]
  },
  {
   "cell_type": "markdown",
   "id": "62583fb7",
   "metadata": {},
   "source": [
    "Признак age не имеет нормального распределения, но по граифку видно, что люди в 25-32 чаще всего берут кредит"
   ]
  },
  {
   "cell_type": "markdown",
   "id": "ae6c33cb",
   "metadata": {},
   "source": [
    "Можно разбить возраст на промежутки и проверить взаимосвязь с целевым признаком"
   ]
  },
  {
   "cell_type": "code",
   "execution_count": 382,
   "id": "198aec90",
   "metadata": {},
   "outputs": [],
   "source": [
    "train['age_intervals'] = pd.qcut(train.age, 10)"
   ]
  },
  {
   "cell_type": "code",
   "execution_count": 383,
   "id": "291c6293",
   "metadata": {},
   "outputs": [
    {
     "data": {
      "image/png": "[encoded data removed]",
      "text/plain": [
       "<Figure size 432x288 with 1 Axes>"
      ]
     },
     "metadata": {
      "needs_background": "light"
     },
     "output_type": "display_data"
    }
   ],
   "source": [
    "countplot_data(train.age_intervals)"
   ]
  },
  {
   "cell_type": "code",
   "execution_count": 384,
   "id": "3623b988",
   "metadata": {},
   "outputs": [
    {
     "name": "stdout",
     "output_type": "stream",
     "text": [
      "(56.0, 72.0]: 0.122\n",
      "(20.999, 25.0]: 0.139\n",
      "(51.0, 56.0]: 0.106\n",
      "(45.0, 51.0]: 0.120\n",
      "(25.0, 28.0]: 0.140\n",
      "(37.0, 41.0]: 0.122\n",
      "(28.0, 31.0]: 0.135\n",
      "(31.0, 34.0]: 0.130\n",
      "(34.0, 37.0]: 0.133\n",
      "(41.0, 45.0]: 0.120\n"
     ]
    }
   ],
   "source": [
    "print_data_percent(train, 'age_intervals')"
   ]
  },
  {
   "cell_type": "markdown",
   "id": "84eb0c94",
   "metadata": {},
   "source": [
    "Чаще всего люди, чей возраст в диапазоне [21, 25] и [25.28] не отдают кредит, а реже в [51, 56]"
   ]
  },
  {
   "cell_type": "markdown",
   "id": "3107029a",
   "metadata": {},
   "source": [
    "###  Зависимость default и education"
   ]
  },
  {
   "cell_type": "code",
   "execution_count": 385,
   "id": "f68e53bf",
   "metadata": {},
   "outputs": [
    {
     "data": {
      "image/png": "[encoded data removed]",
      "text/plain": [
       "<Figure size 432x288 with 1 Axes>"
      ]
     },
     "metadata": {
      "needs_background": "light"
     },
     "output_type": "display_data"
    }
   ],
   "source": [
    "countplot_data(train.education)"
   ]
  },
  {
   "cell_type": "code",
   "execution_count": 386,
   "id": "6365319f",
   "metadata": {},
   "outputs": [
    {
     "name": "stdout",
     "output_type": "stream",
     "text": [
      "SCH: 0.529\n",
      "GRD: 0.318\n",
      "UGR: 0.134\n",
      "PGR: 0.017\n",
      "ACD: 0.003\n"
     ]
    }
   ],
   "source": [
    "print_data_count_in_percent(train, 'education')"
   ]
  },
  {
   "cell_type": "code",
   "execution_count": 387,
   "id": "1c2761fa",
   "metadata": {},
   "outputs": [
    {
     "name": "stdout",
     "output_type": "stream",
     "text": [
      "SCH: 0.151\n",
      "GRD: 0.090\n",
      "UGR: 0.132\n",
      "PGR: 0.064\n",
      "ACD: 0.041\n"
     ]
    }
   ],
   "source": [
    "print_data_percent(train, 'education')"
   ]
  },
  {
   "cell_type": "markdown",
   "id": "5a5314d8",
   "metadata": {},
   "source": [
    "Исходя из этих данных, можно понять, что люди с уровнями SCH и UGR (15.1% и 13.2% соответственно) чаще всего не отдают кредит"
   ]
  },
  {
   "cell_type": "markdown",
   "id": "5280f3e6",
   "metadata": {},
   "source": [
    "Также можно понять, что люди с уровнями PGR и ACD (6.4% и 4.1% соответсвенно) реже всего не отдавали кредит"
   ]
  },
  {
   "cell_type": "markdown",
   "id": "50f61b86",
   "metadata": {},
   "source": [
    "###  Зависимость default и sex"
   ]
  },
  {
   "cell_type": "code",
   "execution_count": 388,
   "id": "73a0095b",
   "metadata": {},
   "outputs": [
    {
     "data": {
      "image/png": "[encoded data removed]",
      "text/plain": [
       "<Figure size 432x288 with 1 Axes>"
      ]
     },
     "metadata": {
      "needs_background": "light"
     },
     "output_type": "display_data"
    }
   ],
   "source": [
    "countplot_data(train.sex)"
   ]
  },
  {
   "cell_type": "code",
   "execution_count": 389,
   "id": "925bc79b",
   "metadata": {},
   "outputs": [
    {
     "name": "stdout",
     "output_type": "stream",
     "text": [
      "M: 0.135\n",
      "F: 0.121\n"
     ]
    }
   ],
   "source": [
    "print_data_percent(train, 'sex')"
   ]
  },
  {
   "cell_type": "code",
   "execution_count": 390,
   "id": "bfd936e0",
   "metadata": {},
   "outputs": [
    {
     "name": "stdout",
     "output_type": "stream",
     "text": [
      "M: 0.437\n",
      "F: 0.563\n"
     ]
    }
   ],
   "source": [
    "print_data_count_in_percent(train, 'sex')"
   ]
  },
  {
   "cell_type": "markdown",
   "id": "c294b81c",
   "metadata": {},
   "source": [
    "По этим данным можно понять, что женщины чаще брали кредит, но мужчины реже их отдавали"
   ]
  },
  {
   "cell_type": "markdown",
   "id": "af3093ce",
   "metadata": {},
   "source": [
    "### Зависимость default и car"
   ]
  },
  {
   "cell_type": "code",
   "execution_count": 391,
   "id": "eca8f5a5",
   "metadata": {},
   "outputs": [
    {
     "data": {
      "image/png": "[encoded data removed]",
      "text/plain": [
       "<Figure size 432x288 with 1 Axes>"
      ]
     },
     "metadata": {
      "needs_background": "light"
     },
     "output_type": "display_data"
    }
   ],
   "source": [
    "countplot_data(train.car)"
   ]
  },
  {
   "cell_type": "code",
   "execution_count": 392,
   "id": "85d4b472",
   "metadata": {},
   "outputs": [
    {
     "name": "stdout",
     "output_type": "stream",
     "text": [
      "Y: 0.324\n",
      "N: 0.676\n"
     ]
    }
   ],
   "source": [
    "print_data_count_in_percent(train, 'car')"
   ]
  },
  {
   "cell_type": "code",
   "execution_count": 393,
   "id": "b31097f9",
   "metadata": {},
   "outputs": [
    {
     "name": "stdout",
     "output_type": "stream",
     "text": [
      "Y: 0.106\n",
      "N: 0.137\n"
     ]
    }
   ],
   "source": [
    "print_data_percent(train, 'car')"
   ]
  },
  {
   "cell_type": "markdown",
   "id": "89fafac4",
   "metadata": {},
   "source": [
    "Люди без машин чаще берут кредит и реже его отдают"
   ]
  },
  {
   "cell_type": "markdown",
   "id": "317b6202",
   "metadata": {},
   "source": [
    "### Зависимость car_type и default"
   ]
  },
  {
   "cell_type": "code",
   "execution_count": 394,
   "id": "994fae27",
   "metadata": {},
   "outputs": [
    {
     "data": {
      "image/png": "[encoded data removed]",
      "text/plain": [
       "<Figure size 432x288 with 1 Axes>"
      ]
     },
     "metadata": {
      "needs_background": "light"
     },
     "output_type": "display_data"
    }
   ],
   "source": [
    "countplot_data(train.car_type)"
   ]
  },
  {
   "cell_type": "code",
   "execution_count": 395,
   "id": "a7108595",
   "metadata": {},
   "outputs": [
    {
     "name": "stdout",
     "output_type": "stream",
     "text": [
      "Y: 0.190\n",
      "N: 0.810\n"
     ]
    }
   ],
   "source": [
    "print_data_count_in_percent(train, 'car_type')"
   ]
  },
  {
   "cell_type": "code",
   "execution_count": 396,
   "id": "b5f8bc66",
   "metadata": {},
   "outputs": [
    {
     "name": "stdout",
     "output_type": "stream",
     "text": [
      "Y: 0.088\n",
      "N: 0.136\n"
     ]
    }
   ],
   "source": [
    "print_data_percent(train, 'car_type')"
   ]
  },
  {
   "cell_type": "markdown",
   "id": "8b1b77c5",
   "metadata": {},
   "source": [
    "### Зависимость good_work и default"
   ]
  },
  {
   "cell_type": "code",
   "execution_count": 397,
   "id": "8822f3bc",
   "metadata": {},
   "outputs": [
    {
     "data": {
      "image/png": "[encoded data removed]",
      "text/plain": [
       "<Figure size 432x288 with 1 Axes>"
      ]
     },
     "metadata": {
      "needs_background": "light"
     },
     "output_type": "display_data"
    }
   ],
   "source": [
    "countplot_data(train.good_work)"
   ]
  },
  {
   "cell_type": "code",
   "execution_count": 398,
   "id": "aa9f1e5e",
   "metadata": {},
   "outputs": [
    {
     "name": "stdout",
     "output_type": "stream",
     "text": [
      "0: 0.835\n",
      "1: 0.165\n"
     ]
    }
   ],
   "source": [
    "print_data_count_in_percent(train, 'good_work')"
   ]
  },
  {
   "cell_type": "code",
   "execution_count": 399,
   "id": "3bed1c13",
   "metadata": {},
   "outputs": [
    {
     "name": "stdout",
     "output_type": "stream",
     "text": [
      "Y: 0.088\n",
      "N: 0.136\n"
     ]
    }
   ],
   "source": [
    "print_data_percent(train, 'car_type')"
   ]
  },
  {
   "cell_type": "markdown",
   "id": "80a11999",
   "metadata": {},
   "source": [
    "Также можно заметить, что люди с \"хорошей\" работой реже берут кредит и чаще его отдают, чем люди с \"плохой\""
   ]
  },
  {
   "cell_type": "markdown",
   "id": "119a22a4",
   "metadata": {},
   "source": [
    "### Зависимость foreign_passport и default"
   ]
  },
  {
   "cell_type": "code",
   "execution_count": 400,
   "id": "3d32aaf3",
   "metadata": {},
   "outputs": [
    {
     "data": {
      "image/png": "[encoded data removed]",
      "text/plain": [
       "<Figure size 432x288 with 1 Axes>"
      ]
     },
     "metadata": {
      "needs_background": "light"
     },
     "output_type": "display_data"
    }
   ],
   "source": [
    "countplot_data(train.foreign_passport)"
   ]
  },
  {
   "cell_type": "code",
   "execution_count": 401,
   "id": "fdba5dcc",
   "metadata": {},
   "outputs": [
    {
     "name": "stdout",
     "output_type": "stream",
     "text": [
      "N: 0.850\n",
      "Y: 0.150\n"
     ]
    }
   ],
   "source": [
    "print_data_count_in_percent(train, 'foreign_passport')"
   ]
  },
  {
   "cell_type": "code",
   "execution_count": 402,
   "id": "e61586d1",
   "metadata": {},
   "outputs": [
    {
     "name": "stdout",
     "output_type": "stream",
     "text": [
      "0: 0.134\n",
      "1: 0.094\n"
     ]
    }
   ],
   "source": [
    "print_data_percent(train, 'good_work')"
   ]
  },
  {
   "cell_type": "markdown",
   "id": "30ebf8ce",
   "metadata": {},
   "source": [
    "Как и с предыдущими рассматриваемыми признаками, можно заметить, что люди без загранпаспорта чаще берут кредит и реже отдают"
   ]
  },
  {
   "cell_type": "markdown",
   "id": "c438b6d2",
   "metadata": {},
   "source": [
    "# Добавление дополнительных столбцов"
   ]
  },
  {
   "cell_type": "markdown",
   "id": "3f0363ac",
   "metadata": {},
   "source": [
    "#### Как вляет месяц на частоту взятия кредита?\n"
   ]
  },
  {
   "cell_type": "code",
   "execution_count": 403,
   "id": "5cf51b25",
   "metadata": {},
   "outputs": [],
   "source": [
    "train['month'] = train['app_date'].dt.month"
   ]
  },
  {
   "cell_type": "code",
   "execution_count": 404,
   "id": "c24dc2c4",
   "metadata": {},
   "outputs": [],
   "source": [
    "test['month'] = test['app_date'].dt.month"
   ]
  },
  {
   "cell_type": "code",
   "execution_count": 405,
   "id": "19e955a6",
   "metadata": {},
   "outputs": [
    {
     "data": {
      "text/plain": [
       "array([2, 3, 1, 4], dtype=int64)"
      ]
     },
     "execution_count": 405,
     "metadata": {},
     "output_type": "execute_result"
    }
   ],
   "source": [
    "train.month.unique()"
   ]
  },
  {
   "cell_type": "code",
   "execution_count": 406,
   "id": "eebb6b8d",
   "metadata": {},
   "outputs": [
    {
     "data": {
      "text/plain": [
       "0       2014-02-01\n",
       "1       2014-03-12\n",
       "2       2014-02-01\n",
       "3       2014-01-23\n",
       "4       2014-04-18\n",
       "           ...    \n",
       "73794   2014-03-04\n",
       "73795   2014-03-24\n",
       "73796   2014-04-22\n",
       "73797   2014-01-04\n",
       "73798   2014-01-23\n",
       "Name: app_date, Length: 73492, dtype: datetime64[ns]"
      ]
     },
     "execution_count": 406,
     "metadata": {},
     "output_type": "execute_result"
    }
   ],
   "source": [
    "train['app_date']"
   ]
  },
  {
   "cell_type": "markdown",
   "id": "a0257b47",
   "metadata": {},
   "source": [
    "Можно понять, что в нашей выборке есть данные о четырех месяцах"
   ]
  },
  {
   "cell_type": "code",
   "execution_count": 407,
   "id": "237ff002",
   "metadata": {},
   "outputs": [
    {
     "data": {
      "image/png": "[encoded data removed]",
      "text/plain": [
       "<Figure size 432x288 with 1 Axes>"
      ]
     },
     "metadata": {
      "needs_background": "light"
     },
     "output_type": "display_data"
    }
   ],
   "source": [
    "countplot_data(train.month)"
   ]
  },
  {
   "cell_type": "code",
   "execution_count": 408,
   "id": "140fd170",
   "metadata": {},
   "outputs": [
    {
     "name": "stdout",
     "output_type": "stream",
     "text": [
      "2: 0.244\n",
      "3: 0.287\n",
      "1: 0.229\n",
      "4: 0.240\n"
     ]
    }
   ],
   "source": [
    "print_data_count_in_percent(train, 'month')"
   ]
  },
  {
   "cell_type": "code",
   "execution_count": 409,
   "id": "ed389dcb",
   "metadata": {},
   "outputs": [
    {
     "name": "stdout",
     "output_type": "stream",
     "text": [
      "2: 0.133\n",
      "3: 0.128\n",
      "1: 0.142\n",
      "4: 0.106\n"
     ]
    }
   ],
   "source": [
    "print_data_percent(train, 'month')"
   ]
  },
  {
   "cell_type": "markdown",
   "id": "a06f00a3",
   "metadata": {},
   "source": [
    "По данным можно понять, что чаще всего брали кредит в марте, а реже всего в январе, но в январе реже всего отдавали кредит"
   ]
  },
  {
   "cell_type": "markdown",
   "id": "6a404cd5",
   "metadata": {},
   "source": [
    "#### Если адрес клиента совпадает с адресом банка, то как они вместе влияют на целевую переменную?"
   ]
  },
  {
   "cell_type": "code",
   "execution_count": 410,
   "id": "740cf243",
   "metadata": {},
   "outputs": [
    {
     "data": {
      "text/plain": [
       "array([False,  True])"
      ]
     },
     "execution_count": 410,
     "metadata": {},
     "output_type": "execute_result"
    }
   ],
   "source": [
    "train['work_home_address_equals'] = train['work_address'] == train['home_address']\n",
    "train['work_home_address_equals'].unique()"
   ]
  },
  {
   "cell_type": "code",
   "execution_count": 411,
   "id": "ebbe657f",
   "metadata": {},
   "outputs": [
    {
     "data": {
      "text/plain": [
       "array([False,  True])"
      ]
     },
     "execution_count": 411,
     "metadata": {},
     "output_type": "execute_result"
    }
   ],
   "source": [
    "test['work_home_address_equals'] = test['work_address'] == test['home_address']\n",
    "test['work_home_address_equals'].unique()"
   ]
  },
  {
   "cell_type": "code",
   "execution_count": 412,
   "id": "2d2d6202",
   "metadata": {},
   "outputs": [
    {
     "data": {
      "text/plain": [
       "0.7283371294553926"
      ]
     },
     "execution_count": 412,
     "metadata": {},
     "output_type": "execute_result"
    }
   ],
   "source": [
    "train['work_address'].corr(train['home_address'])"
   ]
  },
  {
   "cell_type": "markdown",
   "id": "ffe50a1d",
   "metadata": {},
   "source": [
    "Сильная корреляция, можно объединить в один признак и удалить столбцы home_address, work_address"
   ]
  },
  {
   "cell_type": "code",
   "execution_count": 413,
   "id": "2331c5dc",
   "metadata": {},
   "outputs": [],
   "source": [
    "train['work_home_address_equals'] = train['work_home_address_equals'].replace({True: 1, False: 0})\n",
    "test['work_home_address_equals'] = test['work_home_address_equals'].replace({True: 1, False: 0})"
   ]
  },
  {
   "cell_type": "code",
   "execution_count": 414,
   "id": "cac6f760",
   "metadata": {},
   "outputs": [
    {
     "data": {
      "image/png": "[encoded data removed]",
      "text/plain": [
       "<Figure size 432x288 with 1 Axes>"
      ]
     },
     "metadata": {
      "needs_background": "light"
     },
     "output_type": "display_data"
    }
   ],
   "source": [
    "countplot_data(train.work_home_address_equals)"
   ]
  },
  {
   "cell_type": "code",
   "execution_count": 415,
   "id": "42699037",
   "metadata": {},
   "outputs": [
    {
     "name": "stdout",
     "output_type": "stream",
     "text": [
      "0: 0.861\n",
      "1: 0.139\n"
     ]
    }
   ],
   "source": [
    "print_data_count_in_percent(train, 'work_home_address_equals')"
   ]
  },
  {
   "cell_type": "code",
   "execution_count": 416,
   "id": "b0ceb720",
   "metadata": {},
   "outputs": [
    {
     "name": "stdout",
     "output_type": "stream",
     "text": [
      "0: 0.134\n",
      "1: 0.084\n"
     ]
    }
   ],
   "source": [
    "print_data_percent(train, 'work_home_address_equals')"
   ]
  },
  {
   "cell_type": "markdown",
   "id": "503cc1f4",
   "metadata": {},
   "source": [
    "print_data_percent(train, 'work_home_address_equals')"
   ]
  },
  {
   "cell_type": "markdown",
   "id": "2ffba1e8",
   "metadata": {},
   "source": [
    "Как мы видим, всего у 14% людей адрес банка совпадаем с адресом клиента\n",
    "\n",
    "Эти люди чаще отдают кредит"
   ]
  },
  {
   "cell_type": "markdown",
   "id": "4810a9e9",
   "metadata": {},
   "source": [
    "Удалим признаки home_address и work_address"
   ]
  },
  {
   "cell_type": "code",
   "execution_count": 417,
   "id": "332ce084",
   "metadata": {},
   "outputs": [],
   "source": [
    "train.drop(['home_address','work_address'], inplace = True, axis = 1)\n",
    "test.drop(['home_address','work_address'], inplace = True, axis = 1)"
   ]
  },
  {
   "cell_type": "markdown",
   "id": "4f58278d",
   "metadata": {},
   "source": [
    "#### Какая корреляции у car и car_type?"
   ]
  },
  {
   "cell_type": "code",
   "execution_count": 418,
   "id": "084e8b02",
   "metadata": {},
   "outputs": [],
   "source": [
    "label_encoder = LabelEncoder()\n",
    "train['car'] = label_encoder.fit_transform(train['car'])\n",
    "train['car_type'] = label_encoder.fit_transform(train['car_type'])"
   ]
  },
  {
   "cell_type": "code",
   "execution_count": 419,
   "id": "1f3baa35",
   "metadata": {},
   "outputs": [],
   "source": [
    "label_encoder = LabelEncoder()\n",
    "test['car'] = label_encoder.fit_transform(test['car'])\n",
    "test['car_type'] = label_encoder.fit_transform(test['car_type'])"
   ]
  },
  {
   "cell_type": "code",
   "execution_count": 420,
   "id": "62e466bc",
   "metadata": {},
   "outputs": [
    {
     "data": {
      "text/plain": [
       "0.6987980368931292"
      ]
     },
     "execution_count": 420,
     "metadata": {},
     "output_type": "execute_result"
    }
   ],
   "source": [
    "train['car'].corr(train['car_type'])"
   ]
  },
  {
   "cell_type": "markdown",
   "id": "c0ec658a",
   "metadata": {},
   "source": [
    "Между car и car_type сильная корреляция, их в можно объединить в один признак"
   ]
  },
  {
   "cell_type": "code",
   "execution_count": 421,
   "id": "3c97a4d2",
   "metadata": {},
   "outputs": [],
   "source": [
    "train['car_and_car_type'] = train['car']+train['car_type']"
   ]
  },
  {
   "cell_type": "code",
   "execution_count": 422,
   "id": "a3056e82",
   "metadata": {},
   "outputs": [],
   "source": [
    "test['car_and_car_type'] = test['car']+test['car_type']"
   ]
  },
  {
   "cell_type": "code",
   "execution_count": 423,
   "id": "3eb749fc",
   "metadata": {},
   "outputs": [],
   "source": [
    "train['car_and_car_type'] = label_encoder.fit_transform(train['car_and_car_type'])"
   ]
  },
  {
   "cell_type": "code",
   "execution_count": 424,
   "id": "c4e2c6ba",
   "metadata": {},
   "outputs": [],
   "source": [
    "test['car_and_car_type'] = label_encoder.fit_transform(test['car_and_car_type'])"
   ]
  },
  {
   "cell_type": "markdown",
   "id": "117b792f",
   "metadata": {},
   "source": [
    "Удалим признаки car и car_type"
   ]
  },
  {
   "cell_type": "code",
   "execution_count": 425,
   "id": "59799e14",
   "metadata": {},
   "outputs": [],
   "source": [
    "train.drop(['car','car_type'], inplace = True, axis = 1)"
   ]
  },
  {
   "cell_type": "code",
   "execution_count": 426,
   "id": "41b19e22",
   "metadata": {},
   "outputs": [],
   "source": [
    "test.drop(['car','car_type'], inplace = True, axis = 1)"
   ]
  },
  {
   "cell_type": "markdown",
   "id": "a09fda3a",
   "metadata": {},
   "source": [
    "#### Введем дополнительные признаки при помощи groupby"
   ]
  },
  {
   "cell_type": "code",
   "execution_count": 427,
   "id": "88fbd33d",
   "metadata": {},
   "outputs": [],
   "source": [
    "# Средний доход в зависимости от возраста\n",
    "mean_income = train.groupby('age')['income'].mean().to_dict()\n",
    "train['mean_income_age'] = train['age'].map(mean_income)"
   ]
  },
  {
   "cell_type": "code",
   "execution_count": 428,
   "id": "c118db3c",
   "metadata": {},
   "outputs": [],
   "source": [
    "# Среднее количество запросов в БКИ от возраста\n",
    "mean_bki = train.groupby('age')['bki_request_cnt'].mean().to_dict()\n",
    "train['mean_requests_age'] = train['age'].map(mean_bki)"
   ]
  },
  {
   "cell_type": "code",
   "execution_count": 429,
   "id": "124d8f5b",
   "metadata": {},
   "outputs": [],
   "source": [
    "# Средний возраст по скоринговому баллу\n",
    "mean_score_age = train.groupby('score_bki')['age'].mean().to_dict()\n",
    "train['mean_score_age'] = train['score_bki'].map(mean_score_age)"
   ]
  },
  {
   "cell_type": "code",
   "execution_count": 430,
   "id": "9d98168b",
   "metadata": {},
   "outputs": [],
   "source": [
    "# Максимальный возраст по скоринговому баллу\n",
    "max_score_age = train.groupby('score_bki')['age'].max().to_dict()\n",
    "train['max_score_age'] = train['score_bki'].map(max_score_age)"
   ]
  },
  {
   "cell_type": "code",
   "execution_count": 431,
   "id": "48329722",
   "metadata": {},
   "outputs": [],
   "source": [
    "# Максимальный доход по скоринговому баллу\n",
    "max_score_income = train.groupby('score_bki')['income'].max().to_dict()\n",
    "train['max_score_income'] = train['score_bki'].map(max_score_income)"
   ]
  },
  {
   "cell_type": "code",
   "execution_count": 432,
   "id": "cc9d4951",
   "metadata": {},
   "outputs": [],
   "source": [
    "# Максимальный доход по скоринговому баллу\n",
    "max_score_income = train.groupby('score_bki')['income'].max().to_dict()\n",
    "train['max_score_income'] = train['score_bki'].map(max_score_income)"
   ]
  },
  {
   "cell_type": "code",
   "execution_count": 433,
   "id": "b6c4b10b",
   "metadata": {},
   "outputs": [],
   "source": [
    "# Средний рейтинг региона по скоринговому баллу\n",
    "mean_score_region_rating = train.groupby('score_bki')['region_rating'].mean().to_dict()\n",
    "train['mean_score_region_rating'] = train['score_bki'].map(mean_score_region_rating)"
   ]
  },
  {
   "cell_type": "code",
   "execution_count": 434,
   "id": "c530a0ab",
   "metadata": {},
   "outputs": [
    {
     "data": {
      "text/plain": [
       "<AxesSubplot:>"
      ]
     },
     "execution_count": 434,
     "metadata": {},
     "output_type": "execute_result"
    },
    {
     "data": {
      "image/png": "[encoded data removed]",
      "text/plain": [
       "<Figure size 864x504 with 2 Axes>"
      ]
     },
     "metadata": {
      "needs_background": "light"
     },
     "output_type": "display_data"
    }
   ],
   "source": [
    "plt.subplots(figsize=(12, 7))\n",
    "sns.heatmap(train.corr(), annot=True, fmt='.2g')"
   ]
  },
  {
   "cell_type": "markdown",
   "id": "c85c1769",
   "metadata": {},
   "source": [
    "Как мы видим новые признаки сильно коррелируют с остальными признаками, удалим некоторые из них"
   ]
  },
  {
   "cell_type": "code",
   "execution_count": 435,
   "id": "cfecd05d",
   "metadata": {},
   "outputs": [],
   "source": [
    "train.drop(['max_score_income','max_score_age', 'mean_score_region_rating', 'mean_score_age', 'mean_income_age'], inplace=True, axis=1)"
   ]
  },
  {
   "cell_type": "code",
   "execution_count": 436,
   "id": "b9d62594",
   "metadata": {},
   "outputs": [
    {
     "data": {
      "text/plain": [
       "<AxesSubplot:>"
      ]
     },
     "execution_count": 436,
     "metadata": {},
     "output_type": "execute_result"
    },
    {
     "data": {
      "image/png": "[encoded data removed]",
      "text/plain": [
       "<Figure size 864x504 with 2 Axes>"
      ]
     },
     "metadata": {
      "needs_background": "light"
     },
     "output_type": "display_data"
    }
   ],
   "source": [
    "plt.subplots(figsize=(12, 7))\n",
    "sns.heatmap(train.corr(), annot=True, fmt='.2g')"
   ]
  },
  {
   "cell_type": "markdown",
   "id": "720d7453",
   "metadata": {},
   "source": [
    "Признаки first_time(давность наличия информации о заемщике) и sna(связь заемщика с клиентами банка) имеют среднюю отрицательную корреляцию\n",
    "\n",
    "income и car_and_car_type имеют маленькую корреляцию\n",
    "\n",
    "А остальные признаки почти не имеют корреляции между собой"
   ]
  },
  {
   "cell_type": "markdown",
   "id": "b9ae6a53",
   "metadata": {},
   "source": [
    "# Кодирование и нормирование признаков"
   ]
  },
  {
   "cell_type": "code",
   "execution_count": 437,
   "id": "d12fd5b4",
   "metadata": {},
   "outputs": [],
   "source": [
    "label_encoder = LabelEncoder()\n",
    "train.education = label_encoder.fit_transform(train['education'])\n",
    "test.education = label_encoder.fit_transform(test['education'])"
   ]
  },
  {
   "cell_type": "code",
   "execution_count": 438,
   "id": "30ecc2db",
   "metadata": {},
   "outputs": [],
   "source": [
    "train.sex = train.sex.replace({'M' : 0, 'F' : 1})\n",
    "test.sex = test.sex.replace({'M' : 0, 'F' : 1})"
   ]
  },
  {
   "cell_type": "code",
   "execution_count": 439,
   "id": "db463972",
   "metadata": {},
   "outputs": [],
   "source": [
    "train.foreign_passport = train.foreign_passport.replace({'Y' : 1, 'N' : 0})\n",
    "test.foreign_passport = test.foreign_passport.replace({'Y' : 1, 'N' : 0})"
   ]
  },
  {
   "cell_type": "code",
   "execution_count": 440,
   "id": "388b7ee2",
   "metadata": {},
   "outputs": [],
   "source": [
    "train['region_rating'] = train['region_rating'].apply(lambda x: np.log(x+1))\n",
    "test['region_rating'] = test['region_rating'].apply(lambda x: np.log(x+1))"
   ]
  },
  {
   "cell_type": "code",
   "execution_count": 441,
   "id": "17ae00b0",
   "metadata": {},
   "outputs": [],
   "source": [
    "train['bki_request_cnt'] = train['bki_request_cnt'].apply(lambda x: np.log(x+1))\n",
    "test['bki_request_cnt'] = test['bki_request_cnt'].apply(lambda x: np.log(x+1))"
   ]
  },
  {
   "cell_type": "code",
   "execution_count": 442,
   "id": "e857ae25",
   "metadata": {},
   "outputs": [],
   "source": [
    "train['age'] = train['age'].apply(lambda x: np.log(x+1))\n",
    "test['age'] = test['age'].apply(lambda x: np.log(x+1))"
   ]
  },
  {
   "cell_type": "code",
   "execution_count": 443,
   "id": "bcd3c43f",
   "metadata": {},
   "outputs": [],
   "source": [
    "train['income'] = train['age'].apply(lambda x: np.log(x+1))\n",
    "test['income'] = test['age'].apply(lambda x: np.log(x+1))"
   ]
  },
  {
   "cell_type": "code",
   "execution_count": 444,
   "id": "5b9a6c92",
   "metadata": {},
   "outputs": [],
   "source": [
    "tr = ['app_date', 'age_intervals']\n",
    "tt = ['client_id', 'app_date']"
   ]
  },
  {
   "cell_type": "code",
   "execution_count": 468,
   "id": "f4926b96",
   "metadata": {},
   "outputs": [],
   "source": [
    "train.drop(tr, axis=1, inplace=True)"
   ]
  },
  {
   "cell_type": "code",
   "execution_count": 469,
   "id": "a8d4fd76",
   "metadata": {},
   "outputs": [],
   "source": [
    "test.drop(tt, axis=1, inplace=True)"
   ]
  },
  {
   "cell_type": "markdown",
   "id": "8c8746ad",
   "metadata": {},
   "source": [
    "# Построение моделей"
   ]
  },
  {
   "cell_type": "markdown",
   "id": "c86cdec6",
   "metadata": {},
   "source": [
    "### Модели на одной фиче"
   ]
  },
  {
   "cell_type": "code",
   "execution_count": 445,
   "id": "88894bc9",
   "metadata": {},
   "outputs": [],
   "source": [
    "metrics = {'accuracy': accuracy_score,\n",
    "          'precision': precision_score,\n",
    "          'recall': recall_score,\n",
    "          'f1': f1_score}"
   ]
  },
  {
   "cell_type": "code",
   "execution_count": 446,
   "id": "530379df",
   "metadata": {},
   "outputs": [],
   "source": [
    "def check_all_models_by_metrics(clf, metrics):\n",
    "    y_pred = clf.predict(X_val)\n",
    "    y_prob = clf.predict_proba(X_val)\n",
    "    y_prob = y_prob[:, 1]\n",
    "    print(clf, end=': \\n')\n",
    "    print('\\troc_auc - ' + str(round(roc_auc_score(y_val, y_prob),5)))\n",
    "    for metric in metrics:\n",
    "        print('\\t' + metric + ' - ' + str(round(metrics[metric](y_val, y_pred), 5)))"
   ]
  },
  {
   "cell_type": "code",
   "execution_count": 447,
   "id": "8c8222f3",
   "metadata": {},
   "outputs": [],
   "source": [
    "def check_perceptron_by_metrics(clf, metrics):\n",
    "    clf.fit(X_train, y_train)\n",
    "    y_pred = clf.predict(X_val)\n",
    "    print(clf, end=': \\n')\n",
    "    print('\\troc_auc - ' + str(round(roc_auc_score(y_val, y_pred),5)))\n",
    "    for metric in metrics:\n",
    "        print('\\t' + metric + ' - ' + str(round(metrics[metric](y_val, y_pred), 5)))"
   ]
  },
  {
   "cell_type": "markdown",
   "id": "572a8611",
   "metadata": {},
   "source": [
    "Попробуем три разные модели: KNeighborsClassifier, LogisticRegression, RandomForest без подбора гиперпараметров"
   ]
  },
  {
   "cell_type": "markdown",
   "id": "95c4875c",
   "metadata": {},
   "source": [
    "Для этих трех моделей посчитает по пять метрик: f1, accuracy, precision, roc_auc "
   ]
  },
  {
   "cell_type": "code",
   "execution_count": 448,
   "id": "62298b5b",
   "metadata": {},
   "outputs": [],
   "source": [
    "X = train[['score_bki']]\n",
    "y = train[['default']]"
   ]
  },
  {
   "cell_type": "code",
   "execution_count": 449,
   "id": "64d45bf6",
   "metadata": {},
   "outputs": [],
   "source": [
    "X_train, X_val, y_train, y_val = train_test_split(\n",
    "    X, y, random_state=42, test_size=0.2)"
   ]
  },
  {
   "cell_type": "markdown",
   "id": "3fb1078d",
   "metadata": {},
   "source": [
    "###  KNeighborsClassifier"
   ]
  },
  {
   "cell_type": "code",
   "execution_count": 450,
   "id": "cbe4ab91",
   "metadata": {},
   "outputs": [
    {
     "name": "stdout",
     "output_type": "stream",
     "text": [
      "KNeighborsClassifier(): \n",
      "\troc_auc - 0.55532\n",
      "\taccuracy - 0.85856\n",
      "\tprecision - 0.22995\n",
      "\trecall - 0.04582\n",
      "\tf1 - 0.07641\n"
     ]
    }
   ],
   "source": [
    "clf = KNeighborsClassifier()\n",
    "clf.fit(X_train, y_train)\n",
    "check_all_models_by_metrics(clf, metrics)"
   ]
  },
  {
   "cell_type": "markdown",
   "id": "71913665",
   "metadata": {},
   "source": [
    "### LogisticRegression"
   ]
  },
  {
   "cell_type": "code",
   "execution_count": 451,
   "id": "6bc89d00",
   "metadata": {},
   "outputs": [
    {
     "name": "stdout",
     "output_type": "stream",
     "text": [
      "LogisticRegression(): \n",
      "\troc_auc - 0.64809\n",
      "\taccuracy - 0.87224\n",
      "\tprecision - 0.0\n",
      "\trecall - 0.0\n",
      "\tf1 - 0.0\n"
     ]
    }
   ],
   "source": [
    "clf = LogisticRegression()\n",
    "clf.fit(X_train, y_train)\n",
    "check_all_models_by_metrics(clf, metrics)"
   ]
  },
  {
   "cell_type": "markdown",
   "id": "4ab1f264",
   "metadata": {},
   "source": [
    "### RandomForestClassifier"
   ]
  },
  {
   "cell_type": "code",
   "execution_count": 452,
   "id": "117fe96e",
   "metadata": {},
   "outputs": [
    {
     "name": "stdout",
     "output_type": "stream",
     "text": [
      "RandomForestClassifier(): \n",
      "\troc_auc - 0.55041\n",
      "\taccuracy - 0.7942\n",
      "\tprecision - 0.17125\n",
      "\trecall - 0.1593\n",
      "\tf1 - 0.16506\n"
     ]
    }
   ],
   "source": [
    "clf = RandomForestClassifier()\n",
    "clf.fit(X_train, y_train)\n",
    "check_all_models_by_metrics(clf, metrics)"
   ]
  },
  {
   "cell_type": "markdown",
   "id": "05f773ee",
   "metadata": {},
   "source": [
    "### Perceptron"
   ]
  },
  {
   "cell_type": "code",
   "execution_count": 453,
   "id": "970b5591",
   "metadata": {},
   "outputs": [
    {
     "name": "stdout",
     "output_type": "stream",
     "text": [
      "Perceptron(): \n",
      "\troc_auc - 0.50212\n",
      "\taccuracy - 0.87203\n",
      "\tprecision - 0.41667\n",
      "\trecall - 0.00533\n",
      "\tf1 - 0.01052\n"
     ]
    }
   ],
   "source": [
    "clf = Perceptron()\n",
    "clf.fit(X_train, y_train)\n",
    "check_perceptron_by_metrics(clf, metrics)"
   ]
  },
  {
   "cell_type": "markdown",
   "id": "a0182444",
   "metadata": {},
   "source": [
    "### Вывод"
   ]
  },
  {
   "cell_type": "markdown",
   "id": "dbc79e2c",
   "metadata": {},
   "source": [
    "Исходя из полученных данных, можно сделать вывод, что у всех моделей высокий показатель accuracy и низкий показатели precision, recall, f1"
   ]
  },
  {
   "cell_type": "markdown",
   "id": "fb4569e9",
   "metadata": {},
   "source": [
    "Глядя на метрику roc_auc, можно сделать вывод, что самый высокий показатель у LogisticRegression"
   ]
  },
  {
   "cell_type": "markdown",
   "id": "91651961",
   "metadata": {},
   "source": [
    "### Модели на некоторых фичах"
   ]
  },
  {
   "cell_type": "markdown",
   "id": "1f046f9d",
   "metadata": {},
   "source": [
    "Отберем признаки, которые коррелируют с целевой переменной ( > 0.1 )"
   ]
  },
  {
   "cell_type": "code",
   "execution_count": 470,
   "id": "7e1a248a",
   "metadata": {},
   "outputs": [],
   "source": [
    "r = []\n",
    "for i in train.columns:\n",
    "    if train['default'].corr(train[i]) > 0.1:\n",
    "        r.append(i)\n",
    "r.remove('default')"
   ]
  },
  {
   "cell_type": "code",
   "execution_count": 471,
   "id": "7e9a55ef",
   "metadata": {},
   "outputs": [],
   "source": [
    "X = train[r]\n",
    "y = train['default']"
   ]
  },
  {
   "cell_type": "code",
   "execution_count": 472,
   "id": "dc8572c9",
   "metadata": {},
   "outputs": [],
   "source": [
    "X_train, X_val, y_train, y_val = train_test_split(\n",
    "    X, y, random_state=42, test_size=0.2)"
   ]
  },
  {
   "cell_type": "markdown",
   "id": "5d08aace",
   "metadata": {},
   "source": [
    "### KNeighborsClassifier"
   ]
  },
  {
   "cell_type": "code",
   "execution_count": 473,
   "id": "91d84b58",
   "metadata": {},
   "outputs": [
    {
     "name": "stdout",
     "output_type": "stream",
     "text": [
      "KNeighborsClassifier(): \n",
      "\troc_auc - 0.57377\n",
      "\taccuracy - 0.85591\n",
      "\tprecision - 0.24307\n",
      "\trecall - 0.06074\n",
      "\tf1 - 0.09719\n"
     ]
    }
   ],
   "source": [
    "clf = KNeighborsClassifier()\n",
    "clf.fit(X_train, y_train)\n",
    "check_all_models_by_metrics(clf, metrics)"
   ]
  },
  {
   "cell_type": "markdown",
   "id": "7b7d96ac",
   "metadata": {},
   "source": [
    "### LogisticRegression"
   ]
  },
  {
   "cell_type": "code",
   "execution_count": 474,
   "id": "753464d5",
   "metadata": {},
   "outputs": [
    {
     "name": "stdout",
     "output_type": "stream",
     "text": [
      "LogisticRegression(): \n",
      "\troc_auc - 0.67605\n",
      "\taccuracy - 0.87156\n",
      "\tprecision - 0.37778\n",
      "\trecall - 0.00906\n",
      "\tf1 - 0.01769\n"
     ]
    }
   ],
   "source": [
    "clf = LogisticRegression()\n",
    "clf.fit(X_train, y_train)\n",
    "check_all_models_by_metrics(clf, metrics)"
   ]
  },
  {
   "cell_type": "markdown",
   "id": "4c0d97fb",
   "metadata": {},
   "source": [
    "### RandomForestClassifier"
   ]
  },
  {
   "cell_type": "code",
   "execution_count": 475,
   "id": "14a60807",
   "metadata": {},
   "outputs": [
    {
     "name": "stdout",
     "output_type": "stream",
     "text": [
      "RandomForestClassifier(): \n",
      "\troc_auc - 0.56829\n",
      "\taccuracy - 0.79448\n",
      "\tprecision - 0.17647\n",
      "\trecall - 0.16622\n",
      "\tf1 - 0.17119\n"
     ]
    }
   ],
   "source": [
    "clf = RandomForestClassifier()\n",
    "clf.fit(X_train, y_train)\n",
    "check_all_models_by_metrics(clf, metrics)"
   ]
  },
  {
   "cell_type": "markdown",
   "id": "1b65e689",
   "metadata": {},
   "source": [
    "### Perceptron"
   ]
  },
  {
   "cell_type": "code",
   "execution_count": 476,
   "id": "b6d12397",
   "metadata": {},
   "outputs": [
    {
     "name": "stdout",
     "output_type": "stream",
     "text": [
      "Perceptron(): \n",
      "\troc_auc - 0.60425\n",
      "\taccuracy - 0.62535\n",
      "\tprecision - 0.18664\n",
      "\trecall - 0.57592\n",
      "\tf1 - 0.28191\n"
     ]
    }
   ],
   "source": [
    "clf = Perceptron()\n",
    "clf.fit(X_train, y_train)\n",
    "check_perceptron_by_metrics(clf , metrics)"
   ]
  },
  {
   "cell_type": "markdown",
   "id": "9eab40d5",
   "metadata": {},
   "source": [
    "### Вывод"
   ]
  },
  {
   "cell_type": "markdown",
   "id": "ebf476d0",
   "metadata": {},
   "source": [
    "Как мы видим, при добавлении новых признаков показатели всех метрик у всех моделей выросли\n",
    "\n",
    "Ещё можно заметить, что у Perceptron сильно выросли метрики precision, recall, f1"
   ]
  },
  {
   "cell_type": "markdown",
   "id": "e54ecb88",
   "metadata": {},
   "source": [
    "### Модели на всех фичах"
   ]
  },
  {
   "cell_type": "code",
   "execution_count": 477,
   "id": "c3e9ed2b",
   "metadata": {},
   "outputs": [],
   "source": [
    "X = train.drop('default', axis=1)\n",
    "y = train['default']"
   ]
  },
  {
   "cell_type": "code",
   "execution_count": 478,
   "id": "319decc8",
   "metadata": {},
   "outputs": [],
   "source": [
    "X_train, X_val, y_train, y_val = train_test_split(\n",
    "    X, y, random_state=42, test_size=0.2)"
   ]
  },
  {
   "cell_type": "markdown",
   "id": "43d6cb3f",
   "metadata": {},
   "source": [
    "### KNeighborsClassifier"
   ]
  },
  {
   "cell_type": "code",
   "execution_count": 479,
   "id": "0c3e6669",
   "metadata": {},
   "outputs": [
    {
     "name": "stdout",
     "output_type": "stream",
     "text": [
      "KNeighborsClassifier(): \n",
      "\troc_auc - 0.58566\n",
      "\taccuracy - 0.85557\n",
      "\tprecision - 0.23026\n",
      "\trecall - 0.05594\n",
      "\tf1 - 0.09001\n"
     ]
    }
   ],
   "source": [
    "clf = KNeighborsClassifier()\n",
    "clf.fit(X_train, y_train)\n",
    "check_all_models_by_metrics(clf, metrics)"
   ]
  },
  {
   "cell_type": "markdown",
   "id": "e1497875",
   "metadata": {},
   "source": [
    "### LogisticRegression"
   ]
  },
  {
   "cell_type": "code",
   "execution_count": 480,
   "id": "7a29097e",
   "metadata": {},
   "outputs": [
    {
     "name": "stdout",
     "output_type": "stream",
     "text": [
      "LogisticRegression(): \n",
      "\troc_auc - 0.71674\n",
      "\taccuracy - 0.87128\n",
      "\tprecision - 0.41573\n",
      "\trecall - 0.01971\n",
      "\tf1 - 0.03764\n"
     ]
    }
   ],
   "source": [
    "clf = LogisticRegression()\n",
    "clf.fit(X_train, y_train)\n",
    "check_all_models_by_metrics(clf , metrics)"
   ]
  },
  {
   "cell_type": "markdown",
   "id": "def8eacb",
   "metadata": {},
   "source": [
    "### RandomForestClassifier"
   ]
  },
  {
   "cell_type": "code",
   "execution_count": 481,
   "id": "5cdf134e",
   "metadata": {},
   "outputs": [
    {
     "name": "stdout",
     "output_type": "stream",
     "text": [
      "RandomForestClassifier(): \n",
      "\troc_auc - 0.66957\n",
      "\taccuracy - 0.86992\n",
      "\tprecision - 0.30769\n",
      "\trecall - 0.01492\n",
      "\tf1 - 0.02846\n"
     ]
    }
   ],
   "source": [
    "clf = RandomForestClassifier()\n",
    "clf.fit(X_train, y_train)\n",
    "check_all_models_by_metrics(clf, metrics)"
   ]
  },
  {
   "cell_type": "markdown",
   "id": "7f6607d9",
   "metadata": {},
   "source": [
    "### Perceptron"
   ]
  },
  {
   "cell_type": "code",
   "execution_count": 482,
   "id": "e3af62df",
   "metadata": {},
   "outputs": [
    {
     "name": "stdout",
     "output_type": "stream",
     "text": [
      "Perceptron(): \n",
      "\troc_auc - 0.55989\n",
      "\taccuracy - 0.84706\n",
      "\tprecision - 0.31902\n",
      "\trecall - 0.17421\n",
      "\tf1 - 0.22536\n"
     ]
    }
   ],
   "source": [
    "clf = Perceptron()\n",
    "clf.fit(X_train, y_train)\n",
    "check_perceptron_by_metrics(clf, metrics)"
   ]
  },
  {
   "cell_type": "markdown",
   "id": "a1adbc96",
   "metadata": {},
   "source": [
    "### Вывод"
   ]
  },
  {
   "cell_type": "markdown",
   "id": "da54f7e3",
   "metadata": {},
   "source": [
    "Когда мы использовали все фичи, метрики всех моделей выросли, но у Perceptron упали все метрики, но выросла accuracy, продолжим исследования для него с малым количеством признаков\n",
    "\n",
    "Логистическая регрессия показала самый лучший результат"
   ]
  },
  {
   "cell_type": "markdown",
   "id": "a0c74739",
   "metadata": {},
   "source": [
    "# Кросс-валидация моделей"
   ]
  },
  {
   "cell_type": "markdown",
   "id": "673c62f8",
   "metadata": {},
   "source": [
    "Проведем кросс-валидацию, чтобы отобрать самые эффективные модели"
   ]
  },
  {
   "cell_type": "markdown",
   "id": "d5751194",
   "metadata": {},
   "source": [
    "### KNeighborsClassifier"
   ]
  },
  {
   "cell_type": "code",
   "execution_count": 483,
   "id": "4eb3bba9",
   "metadata": {},
   "outputs": [
    {
     "data": {
      "text/plain": [
       "array([0.85491964, 0.85823624, 0.85372906, 0.85711856, 0.85958496])"
      ]
     },
     "execution_count": 483,
     "metadata": {},
     "output_type": "execute_result"
    }
   ],
   "source": [
    "clf = KNeighborsClassifier()\n",
    "scores = cross_val_score(clf, X_train, y_train, cv=5)\n",
    "scores"
   ]
  },
  {
   "cell_type": "markdown",
   "id": "a721a5f9",
   "metadata": {},
   "source": [
    "### Logistic regression"
   ]
  },
  {
   "cell_type": "code",
   "execution_count": 484,
   "id": "d5b982a4",
   "metadata": {},
   "outputs": [
    {
     "data": {
      "text/plain": [
       "array([0.87345863, 0.87201293, 0.87243813, 0.87200204, 0.87293757])"
      ]
     },
     "execution_count": 484,
     "metadata": {},
     "output_type": "execute_result"
    }
   ],
   "source": [
    "clf = LogisticRegression()\n",
    "scores = cross_val_score(clf, X_train, y_train, cv=5)\n",
    "scores"
   ]
  },
  {
   "cell_type": "markdown",
   "id": "69b4c128",
   "metadata": {},
   "source": [
    "### RandomForestClassifier"
   ]
  },
  {
   "cell_type": "code",
   "execution_count": 485,
   "id": "beaeb585",
   "metadata": {},
   "outputs": [
    {
     "data": {
      "text/plain": [
       "array([0.87235309, 0.87107747, 0.87039714, 0.87055622, 0.8717469 ])"
      ]
     },
     "execution_count": 485,
     "metadata": {},
     "output_type": "execute_result"
    }
   ],
   "source": [
    "clf = RandomForestClassifier()\n",
    "scores = cross_val_score(clf, X_train, y_train, cv=5)\n",
    "scores"
   ]
  },
  {
   "cell_type": "markdown",
   "id": "d64980f9",
   "metadata": {},
   "source": [
    "### Perceptron"
   ]
  },
  {
   "cell_type": "code",
   "execution_count": 486,
   "id": "1286a303",
   "metadata": {},
   "outputs": [
    {
     "data": {
      "text/plain": [
       "array([0.87311846, 0.5750489 , 0.87192789, 0.85881953, 0.85295118])"
      ]
     },
     "execution_count": 486,
     "metadata": {},
     "output_type": "execute_result"
    }
   ],
   "source": [
    "clf = Perceptron()\n",
    "scores = cross_val_score(clf, X_train, y_train, cv=5)\n",
    "scores"
   ]
  },
  {
   "cell_type": "markdown",
   "id": "983f1b2a",
   "metadata": {},
   "source": [
    "### Вывод"
   ]
  },
  {
   "cell_type": "markdown",
   "id": "85ca9197",
   "metadata": {},
   "source": [
    "После проведения кросс-валидации понятно, что все модели показывают примерно одинаковые результаты, за исключением перцептрона, у него на последней валидации отмечается наихудший результат"
   ]
  },
  {
   "cell_type": "markdown",
   "id": "7c81a19b",
   "metadata": {},
   "source": [
    "# Проведем подбор гиперпараметров"
   ]
  },
  {
   "cell_type": "markdown",
   "id": "abf860ca",
   "metadata": {},
   "source": [
    "Возьмем две модели, которые показали наилучшие результаты на прошлых тестах и подберем гиперпараметры: LogisticRegression и RandomForestClassifier"
   ]
  },
  {
   "cell_type": "markdown",
   "id": "ea4e08b1",
   "metadata": {},
   "source": [
    "### Logistic regression"
   ]
  },
  {
   "cell_type": "code",
   "execution_count": 487,
   "id": "5642513b",
   "metadata": {},
   "outputs": [
    {
     "data": {
      "text/plain": [
       "{'penalty': 'l2', 'solver': 'newton-cg'}"
      ]
     },
     "execution_count": 487,
     "metadata": {},
     "output_type": "execute_result"
    }
   ],
   "source": [
    "hyperparams = {'penalty': ['l1', 'l2', 'elasticnet'],\n",
    "              'solver': ['newton-cg', 'newton-cholesky']}\n",
    "\n",
    "logistic_model = LogisticRegression(random_state=42, max_iter=1000)\n",
    "\n",
    "clf = GridSearchCV(logistic_model, hyperparams, cv=5)\n",
    "\n",
    "best_model = clf.fit(X_train, y_train)\n",
    "\n",
    "best_model.best_params_"
   ]
  },
  {
   "cell_type": "code",
   "execution_count": 488,
   "id": "8e70791e",
   "metadata": {},
   "outputs": [
    {
     "name": "stdout",
     "output_type": "stream",
     "text": [
      "GridSearchCV(cv=5, estimator=LogisticRegression(max_iter=1000, random_state=42),\n",
      "             param_grid={'penalty': ['l1', 'l2', 'elasticnet'],\n",
      "                         'solver': ['newton-cg', 'newton-cholesky']}): \n",
      "\troc_auc - 0.71668\n",
      "\taccuracy - 0.87128\n",
      "\tprecision - 0.41573\n",
      "\trecall - 0.01971\n",
      "\tf1 - 0.03764\n"
     ]
    }
   ],
   "source": [
    "check_all_models_by_metrics(best_model, metrics)"
   ]
  },
  {
   "cell_type": "markdown",
   "id": "d91f3298",
   "metadata": {},
   "source": [
    "### RandomForestClassifier"
   ]
  },
  {
   "cell_type": "code",
   "execution_count": 489,
   "id": "ba74613d",
   "metadata": {},
   "outputs": [
    {
     "data": {
      "text/plain": [
       "{'max_depth': 10, 'n_estimators': 50}"
      ]
     },
     "execution_count": 489,
     "metadata": {},
     "output_type": "execute_result"
    }
   ],
   "source": [
    "hyperparams = {\n",
    "    'n_estimators' : [50,100,300],\n",
    "    'max_depth': [1, 5, 10],\n",
    "}\n",
    "\n",
    "random_forest_model = RandomForestClassifier()\n",
    "\n",
    "clf = GridSearchCV(random_forest_model, hyperparams, cv=5)\n",
    "\n",
    "best_model = clf.fit(X_train, y_train)\n",
    "\n",
    "best_model.best_params_"
   ]
  },
  {
   "cell_type": "code",
   "execution_count": 490,
   "id": "20715ed0",
   "metadata": {},
   "outputs": [
    {
     "name": "stdout",
     "output_type": "stream",
     "text": [
      "GridSearchCV(cv=5, estimator=RandomForestClassifier(),\n",
      "             param_grid={'max_depth': [1, 5, 10],\n",
      "                         'n_estimators': [50, 100, 300]}): \n",
      "\troc_auc - 0.70863\n",
      "\taccuracy - 0.87237\n",
      "\tprecision - 0.6\n",
      "\trecall - 0.0016\n",
      "\tf1 - 0.00319\n"
     ]
    }
   ],
   "source": [
    "check_all_models_by_metrics(best_model, metrics)"
   ]
  },
  {
   "cell_type": "markdown",
   "id": "31387170",
   "metadata": {},
   "source": [
    "### Вывод"
   ]
  },
  {
   "cell_type": "markdown",
   "id": "c7ec71d8",
   "metadata": {},
   "source": [
    "После кросс-валидации трех моделей, можно сделать вывод, что лучше всего отработали модели LogisticRegression(0.72) и RandomForestClassifier(0.71)"
   ]
  },
  {
   "cell_type": "markdown",
   "id": "89a594b4",
   "metadata": {},
   "source": [
    "Модель RandomForestClassifier после подбора гиперпараметров улучшила свою предсказательную способность: 0.67 -> 0.71"
   ]
  },
  {
   "cell_type": "markdown",
   "id": "e3d1372a",
   "metadata": {},
   "source": [
    "В свою очередь, предсказательная способность LogisticRegression, после проведения кросс-валидации не изменилась"
   ]
  },
  {
   "cell_type": "code",
   "execution_count": null,
   "id": "3e46f0ae",
   "metadata": {},
   "outputs": [],
   "source": []
  }
 ],
 "metadata": {
  "kernelspec": {
   "display_name": "Python 3 (ipykernel)",
   "language": "python",
   "name": "python3"
  },
  "language_info": {
   "codemirror_mode": {
    "name": "ipython",
    "version": 3
   },
   "file_extension": ".py",
   "mimetype": "text/x-python",
   "name": "python",
   "nbconvert_exporter": "python",
   "pygments_lexer": "ipython3",
   "version": "3.9.12"
  }
 },
 "nbformat": 4,
 "nbformat_minor": 5
}
